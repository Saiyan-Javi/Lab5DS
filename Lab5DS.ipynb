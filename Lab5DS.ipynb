{
 "cells": [
  {
   "cell_type": "markdown",
   "id": "59d4b817",
   "metadata": {},
   "source": [
    "# Laboratorio 5\n",
    "## Data Science\n",
    "#### Sección 40\n",
    "Javier Alejandro Ovalle Chiquín, 22103  \n",
    "José Ángel Morales Farfán, 22689  \n",
    "Ricardo Josué Morales Contreras, 22289"
   ]
  },
  {
   "cell_type": "code",
   "execution_count": null,
   "id": "3e3ea0c6",
   "metadata": {},
   "outputs": [],
   "source": []
  },
  {
   "cell_type": "code",
   "execution_count": null,
   "id": "4d8398b1",
   "metadata": {},
   "outputs": [],
   "source": []
  }
 ],
 "metadata": {
  "language_info": {
   "name": "python"
  }
 },
 "nbformat": 4,
 "nbformat_minor": 5
}
