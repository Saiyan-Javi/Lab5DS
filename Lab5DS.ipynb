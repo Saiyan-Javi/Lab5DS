{
 "cells": [
  {
   "cell_type": "markdown",
   "id": "59d4b817",
   "metadata": {},
   "source": [
    "# Laboratorio 5\n",
    "## Data Science\n",
    "#### Sección 40\n",
    "Javier Alejandro Ovalle Chiquín, 22103  \n",
    "José Ángel Morales Farfán, 22689  \n",
    "Ricardo Josué Morales Contreras, 22289"
   ]
  },
  {
   "cell_type": "code",
   "execution_count": 14,
   "id": "3e3ea0c6",
   "metadata": {},
   "outputs": [],
   "source": [
    "import pandas as pd\n",
    "import numpy as np\n",
    "import matplotlib.pyplot as plt\n",
    "import re"
   ]
  },
  {
   "cell_type": "code",
   "execution_count": 15,
   "id": "99ca64c8",
   "metadata": {},
   "outputs": [],
   "source": [
    "# ==== Cargar CSV ====\n",
    "df = pd.read_csv(\"tweets_texto_normalizados.csv\")  \n",
    "dfor = pd.read_csv(\"tweets.csv\")"
   ]
  },
  {
   "cell_type": "markdown",
   "id": "4d23ebe2",
   "metadata": {},
   "source": [
    "# Analisis exploratorio"
   ]
  },
  {
   "cell_type": "code",
   "execution_count": 16,
   "id": "4d8398b1",
   "metadata": {},
   "outputs": [
    {
     "name": "stdout",
     "output_type": "stream",
     "text": [
      "Shape del dataset: (7613, 5)\n"
     ]
    },
    {
     "data": {
      "text/html": [
       "<div>\n",
       "<style scoped>\n",
       "    .dataframe tbody tr th:only-of-type {\n",
       "        vertical-align: middle;\n",
       "    }\n",
       "\n",
       "    .dataframe tbody tr th {\n",
       "        vertical-align: top;\n",
       "    }\n",
       "\n",
       "    .dataframe thead th {\n",
       "        text-align: right;\n",
       "    }\n",
       "</style>\n",
       "<table border=\"1\" class=\"dataframe\">\n",
       "  <thead>\n",
       "    <tr style=\"text-align: right;\">\n",
       "      <th></th>\n",
       "      <th>id</th>\n",
       "      <th>keyword</th>\n",
       "      <th>location</th>\n",
       "      <th>text</th>\n",
       "      <th>target</th>\n",
       "    </tr>\n",
       "  </thead>\n",
       "  <tbody>\n",
       "    <tr>\n",
       "      <th>0</th>\n",
       "      <td>1</td>\n",
       "      <td>NaN</td>\n",
       "      <td>NaN</td>\n",
       "      <td>deeds reason this earthquake allah forgive</td>\n",
       "      <td>1</td>\n",
       "    </tr>\n",
       "    <tr>\n",
       "      <th>1</th>\n",
       "      <td>4</td>\n",
       "      <td>NaN</td>\n",
       "      <td>NaN</td>\n",
       "      <td>forest fire near ronge sask canada</td>\n",
       "      <td>1</td>\n",
       "    </tr>\n",
       "    <tr>\n",
       "      <th>2</th>\n",
       "      <td>5</td>\n",
       "      <td>NaN</td>\n",
       "      <td>NaN</td>\n",
       "      <td>residents asked shelter place being notified o...</td>\n",
       "      <td>1</td>\n",
       "    </tr>\n",
       "    <tr>\n",
       "      <th>3</th>\n",
       "      <td>6</td>\n",
       "      <td>NaN</td>\n",
       "      <td>NaN</td>\n",
       "      <td>people receive wildfires evacuation orders cal...</td>\n",
       "      <td>1</td>\n",
       "    </tr>\n",
       "    <tr>\n",
       "      <th>4</th>\n",
       "      <td>7</td>\n",
       "      <td>NaN</td>\n",
       "      <td>NaN</td>\n",
       "      <td>just sent this photo from ruby alaska smoke fr...</td>\n",
       "      <td>1</td>\n",
       "    </tr>\n",
       "  </tbody>\n",
       "</table>\n",
       "</div>"
      ],
      "text/plain": [
       "   id keyword location                                               text  \\\n",
       "0   1     NaN      NaN         deeds reason this earthquake allah forgive   \n",
       "1   4     NaN      NaN                 forest fire near ronge sask canada   \n",
       "2   5     NaN      NaN  residents asked shelter place being notified o...   \n",
       "3   6     NaN      NaN  people receive wildfires evacuation orders cal...   \n",
       "4   7     NaN      NaN  just sent this photo from ruby alaska smoke fr...   \n",
       "\n",
       "   target  \n",
       "0       1  \n",
       "1       1  \n",
       "2       1  \n",
       "3       1  \n",
       "4       1  "
      ]
     },
     "metadata": {},
     "output_type": "display_data"
    },
    {
     "name": "stdout",
     "output_type": "stream",
     "text": [
      "\n",
      "Tipos de datos y nulos:\n",
      "<class 'pandas.core.frame.DataFrame'>\n",
      "RangeIndex: 7613 entries, 0 to 7612\n",
      "Data columns (total 5 columns):\n",
      " #   Column    Non-Null Count  Dtype \n",
      "---  ------    --------------  ----- \n",
      " 0   id        7613 non-null   int64 \n",
      " 1   keyword   7552 non-null   object\n",
      " 2   location  5080 non-null   object\n",
      " 3   text      7605 non-null   object\n",
      " 4   target    7613 non-null   int64 \n",
      "dtypes: int64(2), object(3)\n",
      "memory usage: 297.5+ KB\n",
      "None\n",
      "id             0\n",
      "keyword       61\n",
      "location    2533\n",
      "text           8\n",
      "target         0\n",
      "dtype: int64\n",
      "----------------------------\n",
      "\n",
      "Duplicados por id: 0\n",
      "Duplicados por texto: 869\n",
      "----------------------------\n",
      "\n",
      "\n",
      "Balance de clases (target):\n",
      "target\n",
      "0    4342\n",
      "1    3271\n",
      "Name: count, dtype: int64\n",
      "----------------------------\n",
      "\n",
      "\n",
      "Estadísticas de longitud:\n",
      "count    7613.000000\n",
      "mean       60.688428\n",
      "std        25.345176\n",
      "min         3.000000\n",
      "25%        42.000000\n",
      "50%        61.000000\n",
      "75%        80.000000\n",
      "max       134.000000\n",
      "Name: text_len, dtype: float64\n",
      "----------------------------\n",
      "\n"
     ]
    },
    {
     "data": {
      "image/png": "[encoded data removed]",
      "text/plain": [
       "<Figure size 800x400 with 1 Axes>"
      ]
     },
     "metadata": {},
     "output_type": "display_data"
    }
   ],
   "source": [
    "# ==== Vista rápida ====\n",
    "print(\"Shape del dataset:\", df.shape)\n",
    "display(df.head())\n",
    "\n",
    "# ==== Info de columnas ====\n",
    "print(\"\\nTipos de datos y nulos:\")\n",
    "print(df.info())\n",
    "print(df.isna().sum())\n",
    "print(\"----------------------------\\n\")\n",
    "\n",
    "# ==== Revisar duplicados ====\n",
    "dup_id = df[\"id\"].duplicated().sum()\n",
    "dup_text = df[\"text\"].duplicated().sum()\n",
    "print(f\"Duplicados por id: {dup_id}\")\n",
    "print(f\"Duplicados por texto: {dup_text}\")\n",
    "print(\"----------------------------\\n\")\n",
    "\n",
    "# ==== Balance de clases ====\n",
    "print(\"\\nBalance de clases (target):\")\n",
    "print(df[\"target\"].value_counts())\n",
    "print(\"----------------------------\\n\")\n",
    "\n",
    "# ==== Estadísticas de longitud de texto ====\n",
    "df[\"text_len\"] = df[\"text\"].astype(str).str.len()\n",
    "print(\"\\nEstadísticas de longitud:\")\n",
    "print(df[\"text_len\"].describe())\n",
    "print(\"----------------------------\\n\")\n",
    "\n",
    "# Histograma de longitudes\n",
    "plt.figure(figsize=(8,4))\n",
    "df[\"text_len\"].hist(bins=40)\n",
    "plt.title(\"Distribución de longitud de los tweets (caracteres)\")\n",
    "plt.xlabel(\"Longitud (caracteres)\")\n",
    "plt.ylabel(\"Frecuencia\")\n",
    "plt.show()"
   ]
  },
  {
   "cell_type": "code",
   "execution_count": null,
   "id": "d1302d8f",
   "metadata": {},
   "outputs": [],
   "source": [
    "#import pandas as pd\n",
    "#import re\n",
    "#import html\n",
    "#import numpy as np\n",
    "\n",
    "# === Función de limpieza ===\n",
    "#def clean_text_for_classification(text: str) -> str:\n",
    "#    text = str(text)\n",
    "#    text = html.unescape(text)       # decodificar entidades HTML (&amp;)\n",
    "#    text = text.lower()\n",
    "#    text = re.sub(r\"<.*?>\", \" \", text)                  # eliminar HTML\n",
    "#    text = re.sub(r\"http\\S+|www\\.\\S+\", \" \", text)       # eliminar URLs\n",
    "#    text = re.sub(r\"@\\w+\", \" \", text)                   # eliminar menciones\n",
    "#    text = text.replace(\"#\", \" \")                       # quitar '#' pero dejar palabra\n",
    "#    text = re.sub(r\"[^\\x00-\\x7F]+\", \" \", text)          # quitar no-ASCII\n",
    "#    # preservar \"911\" explícitamente\n",
    "#    text = re.sub(r\"\\b911\\b\", \" nineoneone_token \", text)\n",
    "#    text = re.sub(r\"\\d+\", \" \", text)                    # eliminar números\n",
    "#    text = re.sub(r\"nineoneone_token\", \" 911 \", text)\n",
    "#    text = re.sub(r\"[^\\w\\s]\", \" \", text)                # quitar puntuación\n",
    "#    text = re.sub(r\"\\s+\", \" \", text).strip()            # normalizar espacios\n",
    "#    return text\n",
    "\n",
    "# === 3. Crear la columna text_clean ===\n",
    "#df[\"text_clean\"] = df[\"text\"].astype(str).apply(clean_text_for_classification)\n"
   ]
  },
  {
   "cell_type": "code",
   "execution_count": 17,
   "id": "a311a2d5",
   "metadata": {},
   "outputs": [],
   "source": [
    "df['text_original'] = dfor['text']"
   ]
  },
  {
   "cell_type": "code",
   "execution_count": 18,
   "id": "19a5d292",
   "metadata": {},
   "outputs": [
    {
     "name": "stdout",
     "output_type": "stream",
     "text": [
      "Index(['id', 'keyword', 'location', 'text', 'target', 'text_len',\n",
      "       'text_original'],\n",
      "      dtype='object')\n"
     ]
    }
   ],
   "source": [
    "print(df.columns)"
   ]
  },
  {
   "cell_type": "markdown",
   "id": "f90932c1",
   "metadata": {},
   "source": [
    "Ahora se va a verificar las keywords, además de crear una columna secundaría de keywords para tener un argumento más robusto a la hora de verificar si el comentario es relacionado con un desastre o no "
   ]
  },
  {
   "cell_type": "code",
   "execution_count": 20,
   "id": "f4af2978",
   "metadata": {},
   "outputs": [
    {
     "name": "stdout",
     "output_type": "stream",
     "text": [
      "                                                text  \\\n",
      "0         deeds reason this earthquake allah forgive   \n",
      "1                 forest fire near ronge sask canada   \n",
      "2  residents asked shelter place being notified o...   \n",
      "3  people receive wildfires evacuation orders cal...   \n",
      "4  just sent this photo from ruby alaska smoke fr...   \n",
      "5  rockyfire update california closed both direct...   \n",
      "6  flood disaster heavy rain causes flash floodin...   \n",
      "7                                    hill fire woods   \n",
      "8  there emergency evacuation happening building ...   \n",
      "9                    afraid that tornado coming area   \n",
      "\n",
      "                keywords_found keyword_primary keyword_secondary  \n",
      "0                 [earthquake]      earthquake               NaN  \n",
      "1          [fire, forest fire]            fire       forest fire  \n",
      "2                 [evacuation]      evacuation               NaN  \n",
      "3                 [evacuation]      evacuation               NaN  \n",
      "4                      [smoke]           smoke               NaN  \n",
      "5                       [fire]            fire               NaN  \n",
      "6  [disaster, flood, flooding]        disaster             flood  \n",
      "7                       [fire]            fire               NaN  \n",
      "8      [emergency, evacuation]       emergency        evacuation  \n",
      "9                    [tornado]         tornado               NaN  \n"
     ]
    }
   ],
   "source": [
    "# === 4. Preparar lista de keywords ===\n",
    "keyword_list = df[\"keyword\"].dropna().unique().tolist()\n",
    "keyword_list = [k.lower().replace(\"%20\", \" \") for k in keyword_list]\n",
    "\n",
    "extra_keywords = [\"evacuation\", \"rescue\", \"explosion\", \"emergency\", \"burning\"]\n",
    "keywords = sorted(set(keyword_list + extra_keywords))\n",
    "\n",
    "# === 5. Función para buscar keywords ===\n",
    "def find_keywords(text, keyword_set):\n",
    "    found = []\n",
    "    for kw in keyword_set:\n",
    "        if re.search(r\"\\b\" + re.escape(kw) + r\"\\b\", text):\n",
    "            found.append(kw)\n",
    "    return found\n",
    "\n",
    "# === 6. Crear columnas de keywords ===\n",
    "df[\"keywords_found\"] = df[\"text\"].apply(lambda x: find_keywords(str(x), keywords))\n",
    "df[\"keyword_primary\"] = df[\"keywords_found\"].apply(lambda x: x[0] if len(x) > 0 else np.nan)\n",
    "df[\"keyword_secondary\"] = df[\"keywords_found\"].apply(lambda x: x[1] if len(x) > 1 else np.nan)\n",
    "\n",
    "# === 7. Ver resultado ===\n",
    "print(df[[\"text\", \"keywords_found\", \"keyword_primary\", \"keyword_secondary\"]].head(10))\n"
   ]
  },
  {
   "cell_type": "markdown",
   "id": "d6dbc5ee",
   "metadata": {},
   "source": [
    "Ahora para el modelo preeliminar de selección: "
   ]
  },
  {
   "cell_type": "markdown",
   "id": "af90d3f5",
   "metadata": {},
   "source": [
    "Para el modelo preliminar de clasificación se propone utilizar un clasificador lineal, específicamente una Regresión Logística o un SVM lineal. Este enfoque resulta adecuado debido a que los mensajes en Twitter son cortos y los n-gramas permiten capturar de manera efectiva términos clave como “fire”, “earthquake” o “evacuation order”, los cuales son relevantes para identificar desastres. Aesta propuesta ofrece una solución práctica y efectiva para establecer una línea base sólida sobre la cual se pueden comparar modelos más avanzados en etapas posteriores del proyecto."
   ]
  }
 ],
 "metadata": {
  "kernelspec": {
   "display_name": "Python 3",
   "language": "python",
   "name": "python3"
  },
  "language_info": {
   "codemirror_mode": {
    "name": "ipython",
    "version": 3
   },
   "file_extension": ".py",
   "mimetype": "text/x-python",
   "name": "python",
   "nbconvert_exporter": "python",
   "pygments_lexer": "ipython3",
   "version": "3.10.0"
  }
 },
 "nbformat": 4,
 "nbformat_minor": 5
}
