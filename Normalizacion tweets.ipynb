{
 "cells": [
  {
   "cell_type": "code",
   "execution_count": 1,
   "id": "273bf3b2",
   "metadata": {},
   "outputs": [],
   "source": [
    "import pandas as pd"
   ]
  },
  {
   "cell_type": "code",
   "execution_count": 2,
   "id": "097495a3",
   "metadata": {},
   "outputs": [],
   "source": [
    "df = pd.read_csv('tweets.csv')"
   ]
  },
  {
   "cell_type": "code",
   "execution_count": 3,
   "id": "90c1c513",
   "metadata": {},
   "outputs": [
    {
     "data": {
      "text/plain": [
       "0       Our Deeds are the Reason of this #earthquake M...\n",
       "1                  Forest fire near La Ronge Sask. Canada\n",
       "2       All residents asked to 'shelter in place' are ...\n",
       "3       13,000 people receive #wildfires evacuation or...\n",
       "4       Just got sent this photo from Ruby #Alaska as ...\n",
       "                              ...                        \n",
       "7608    Two giant cranes holding a bridge collapse int...\n",
       "7609    @aria_ahrary @TheTawniest The out of control w...\n",
       "7610    M1.94 [01:04 UTC]?5km S of Volcano Hawaii. htt...\n",
       "7611    Police investigating after an e-bike collided ...\n",
       "7612    The Latest: More Homes Razed by Northern Calif...\n",
       "Name: text, Length: 7613, dtype: object"
      ]
     },
     "execution_count": 3,
     "metadata": {},
     "output_type": "execute_result"
    }
   ],
   "source": [
    "df['text']"
   ]
  },
  {
   "cell_type": "markdown",
   "id": "86e0f86c",
   "metadata": {},
   "source": [
    "Para la limpieza consideramos que era mejor trabajar con unigramas debido a que los tweets rara vez tienen formato consistente tomar digramas o trigramas podria generar que agrupemos palabras que aporten poca informacion con algunas mas significativas."
   ]
  },
  {
   "cell_type": "markdown",
   "id": "d1ba7d68",
   "metadata": {},
   "source": [
    "Pasar todo a minusculas"
   ]
  },
  {
   "cell_type": "code",
   "execution_count": 5,
   "id": "67c9ffa6",
   "metadata": {},
   "outputs": [],
   "source": [
    "df['text'] = df['text'].str.lower()"
   ]
  },
  {
   "cell_type": "markdown",
   "id": "22521e7a",
   "metadata": {},
   "source": [
    "Remover menciones"
   ]
  },
  {
   "cell_type": "code",
   "execution_count": 6,
   "id": "a501bf30",
   "metadata": {},
   "outputs": [
    {
     "data": {
      "text/html": [
       "<div>\n",
       "<style scoped>\n",
       "    .dataframe tbody tr th:only-of-type {\n",
       "        vertical-align: middle;\n",
       "    }\n",
       "\n",
       "    .dataframe tbody tr th {\n",
       "        vertical-align: top;\n",
       "    }\n",
       "\n",
       "    .dataframe thead th {\n",
       "        text-align: right;\n",
       "    }\n",
       "</style>\n",
       "<table border=\"1\" class=\"dataframe\">\n",
       "  <thead>\n",
       "    <tr style=\"text-align: right;\">\n",
       "      <th></th>\n",
       "      <th>id</th>\n",
       "      <th>keyword</th>\n",
       "      <th>location</th>\n",
       "      <th>text</th>\n",
       "      <th>target</th>\n",
       "    </tr>\n",
       "  </thead>\n",
       "  <tbody>\n",
       "    <tr>\n",
       "      <th>31</th>\n",
       "      <td>48</td>\n",
       "      <td>ablaze</td>\n",
       "      <td>Birmingham</td>\n",
       "      <td>@bbcmtd wholesale markets ablaze http://t.co/l...</td>\n",
       "      <td>1</td>\n",
       "    </tr>\n",
       "    <tr>\n",
       "      <th>36</th>\n",
       "      <td>54</td>\n",
       "      <td>ablaze</td>\n",
       "      <td>Pretoria</td>\n",
       "      <td>@phdsquares #mufc they've built so much hype a...</td>\n",
       "      <td>0</td>\n",
       "    </tr>\n",
       "    <tr>\n",
       "      <th>43</th>\n",
       "      <td>63</td>\n",
       "      <td>ablaze</td>\n",
       "      <td>NaN</td>\n",
       "      <td>soooo pumped for ablaze ???? @southridgelife</td>\n",
       "      <td>0</td>\n",
       "    </tr>\n",
       "    <tr>\n",
       "      <th>54</th>\n",
       "      <td>78</td>\n",
       "      <td>ablaze</td>\n",
       "      <td>Abuja</td>\n",
       "      <td>noches el-bestia '@alexis_sanchez: happy to se...</td>\n",
       "      <td>0</td>\n",
       "    </tr>\n",
       "    <tr>\n",
       "      <th>57</th>\n",
       "      <td>81</td>\n",
       "      <td>ablaze</td>\n",
       "      <td>Sao Paulo, Brazil</td>\n",
       "      <td>set our hearts ablaze and every city was a gif...</td>\n",
       "      <td>0</td>\n",
       "    </tr>\n",
       "    <tr>\n",
       "      <th>...</th>\n",
       "      <td>...</td>\n",
       "      <td>...</td>\n",
       "      <td>...</td>\n",
       "      <td>...</td>\n",
       "      <td>...</td>\n",
       "    </tr>\n",
       "    <tr>\n",
       "      <th>7577</th>\n",
       "      <td>10829</td>\n",
       "      <td>wrecked</td>\n",
       "      <td>#NewcastleuponTyne #UK</td>\n",
       "      <td>@widda16 ... he's gone. you can relax. i thoug...</td>\n",
       "      <td>0</td>\n",
       "    </tr>\n",
       "    <tr>\n",
       "      <th>7578</th>\n",
       "      <td>10830</td>\n",
       "      <td>wrecked</td>\n",
       "      <td>NaN</td>\n",
       "      <td>@jt_ruff23 @cameronhacker and i wrecked you both</td>\n",
       "      <td>0</td>\n",
       "    </tr>\n",
       "    <tr>\n",
       "      <th>7581</th>\n",
       "      <td>10833</td>\n",
       "      <td>wrecked</td>\n",
       "      <td>Lincoln</td>\n",
       "      <td>@engineshed great atmosphere at the british li...</td>\n",
       "      <td>0</td>\n",
       "    </tr>\n",
       "    <tr>\n",
       "      <th>7596</th>\n",
       "      <td>10851</td>\n",
       "      <td>NaN</td>\n",
       "      <td>NaN</td>\n",
       "      <td>rt @livingsafely: #nws issues severe #thunders...</td>\n",
       "      <td>1</td>\n",
       "    </tr>\n",
       "    <tr>\n",
       "      <th>7609</th>\n",
       "      <td>10870</td>\n",
       "      <td>NaN</td>\n",
       "      <td>NaN</td>\n",
       "      <td>@aria_ahrary @thetawniest the out of control w...</td>\n",
       "      <td>1</td>\n",
       "    </tr>\n",
       "  </tbody>\n",
       "</table>\n",
       "<p>2039 rows × 5 columns</p>\n",
       "</div>"
      ],
      "text/plain": [
       "         id  keyword                location  \\\n",
       "31       48   ablaze              Birmingham   \n",
       "36       54   ablaze                Pretoria   \n",
       "43       63   ablaze                     NaN   \n",
       "54       78   ablaze                   Abuja   \n",
       "57       81   ablaze       Sao Paulo, Brazil   \n",
       "...     ...      ...                     ...   \n",
       "7577  10829  wrecked  #NewcastleuponTyne #UK   \n",
       "7578  10830  wrecked                     NaN   \n",
       "7581  10833  wrecked                 Lincoln   \n",
       "7596  10851      NaN                     NaN   \n",
       "7609  10870      NaN                     NaN   \n",
       "\n",
       "                                                   text  target  \n",
       "31    @bbcmtd wholesale markets ablaze http://t.co/l...       1  \n",
       "36    @phdsquares #mufc they've built so much hype a...       0  \n",
       "43         soooo pumped for ablaze ???? @southridgelife       0  \n",
       "54    noches el-bestia '@alexis_sanchez: happy to se...       0  \n",
       "57    set our hearts ablaze and every city was a gif...       0  \n",
       "...                                                 ...     ...  \n",
       "7577  @widda16 ... he's gone. you can relax. i thoug...       0  \n",
       "7578   @jt_ruff23 @cameronhacker and i wrecked you both       0  \n",
       "7581  @engineshed great atmosphere at the british li...       0  \n",
       "7596  rt @livingsafely: #nws issues severe #thunders...       1  \n",
       "7609  @aria_ahrary @thetawniest the out of control w...       1  \n",
       "\n",
       "[2039 rows x 5 columns]"
      ]
     },
     "execution_count": 6,
     "metadata": {},
     "output_type": "execute_result"
    }
   ],
   "source": [
    "df[df['text'].str.contains('@')]\n"
   ]
  },
  {
   "cell_type": "code",
   "execution_count": 7,
   "id": "5664e352",
   "metadata": {},
   "outputs": [],
   "source": [
    "def remover_palabras_con_arroba(texto: str) -> str:\n",
    "    return \" \".join([palabra for palabra in texto.split() if \"@\" not in palabra])\n",
    "\n",
    "df['text'] = df['text'].apply(remover_palabras_con_arroba)"
   ]
  },
  {
   "cell_type": "code",
   "execution_count": 8,
   "id": "a1433a09",
   "metadata": {},
   "outputs": [
    {
     "data": {
      "text/html": [
       "<div>\n",
       "<style scoped>\n",
       "    .dataframe tbody tr th:only-of-type {\n",
       "        vertical-align: middle;\n",
       "    }\n",
       "\n",
       "    .dataframe tbody tr th {\n",
       "        vertical-align: top;\n",
       "    }\n",
       "\n",
       "    .dataframe thead th {\n",
       "        text-align: right;\n",
       "    }\n",
       "</style>\n",
       "<table border=\"1\" class=\"dataframe\">\n",
       "  <thead>\n",
       "    <tr style=\"text-align: right;\">\n",
       "      <th></th>\n",
       "      <th>id</th>\n",
       "      <th>keyword</th>\n",
       "      <th>location</th>\n",
       "      <th>text</th>\n",
       "      <th>target</th>\n",
       "    </tr>\n",
       "  </thead>\n",
       "  <tbody>\n",
       "  </tbody>\n",
       "</table>\n",
       "</div>"
      ],
      "text/plain": [
       "Empty DataFrame\n",
       "Columns: [id, keyword, location, text, target]\n",
       "Index: []"
      ]
     },
     "execution_count": 8,
     "metadata": {},
     "output_type": "execute_result"
    }
   ],
   "source": [
    "df[df['text'].str.contains('@')]\n"
   ]
  },
  {
   "cell_type": "markdown",
   "id": "3db7bc15",
   "metadata": {},
   "source": [
    "Remover enlaces"
   ]
  },
  {
   "cell_type": "code",
   "execution_count": 9,
   "id": "6d8f5f59",
   "metadata": {},
   "outputs": [
    {
     "data": {
      "text/html": [
       "<div>\n",
       "<style scoped>\n",
       "    .dataframe tbody tr th:only-of-type {\n",
       "        vertical-align: middle;\n",
       "    }\n",
       "\n",
       "    .dataframe tbody tr th {\n",
       "        vertical-align: top;\n",
       "    }\n",
       "\n",
       "    .dataframe thead th {\n",
       "        text-align: right;\n",
       "    }\n",
       "</style>\n",
       "<table border=\"1\" class=\"dataframe\">\n",
       "  <thead>\n",
       "    <tr style=\"text-align: right;\">\n",
       "      <th></th>\n",
       "      <th>id</th>\n",
       "      <th>keyword</th>\n",
       "      <th>location</th>\n",
       "      <th>text</th>\n",
       "      <th>target</th>\n",
       "    </tr>\n",
       "  </thead>\n",
       "  <tbody>\n",
       "    <tr>\n",
       "      <th>31</th>\n",
       "      <td>48</td>\n",
       "      <td>ablaze</td>\n",
       "      <td>Birmingham</td>\n",
       "      <td>wholesale markets ablaze http://t.co/lhyxeohy6c</td>\n",
       "      <td>1</td>\n",
       "    </tr>\n",
       "    <tr>\n",
       "      <th>32</th>\n",
       "      <td>49</td>\n",
       "      <td>ablaze</td>\n",
       "      <td>Est. September 2012 - Bristol</td>\n",
       "      <td>we always try to bring the heavy. #metal #rt h...</td>\n",
       "      <td>0</td>\n",
       "    </tr>\n",
       "    <tr>\n",
       "      <th>33</th>\n",
       "      <td>50</td>\n",
       "      <td>ablaze</td>\n",
       "      <td>AFRICA</td>\n",
       "      <td>#africanbaze: breaking news:nigeria flag set a...</td>\n",
       "      <td>1</td>\n",
       "    </tr>\n",
       "    <tr>\n",
       "      <th>35</th>\n",
       "      <td>53</td>\n",
       "      <td>ablaze</td>\n",
       "      <td>London, UK</td>\n",
       "      <td>on plus side look at the sky last night it was...</td>\n",
       "      <td>0</td>\n",
       "    </tr>\n",
       "    <tr>\n",
       "      <th>37</th>\n",
       "      <td>55</td>\n",
       "      <td>ablaze</td>\n",
       "      <td>World Wide!!</td>\n",
       "      <td>inec office in abia set ablaze - http://t.co/3...</td>\n",
       "      <td>1</td>\n",
       "    </tr>\n",
       "    <tr>\n",
       "      <th>...</th>\n",
       "      <td>...</td>\n",
       "      <td>...</td>\n",
       "      <td>...</td>\n",
       "      <td>...</td>\n",
       "      <td>...</td>\n",
       "    </tr>\n",
       "    <tr>\n",
       "      <th>7606</th>\n",
       "      <td>10866</td>\n",
       "      <td>NaN</td>\n",
       "      <td>NaN</td>\n",
       "      <td>suicide bomber kills 15 in saudi security site...</td>\n",
       "      <td>1</td>\n",
       "    </tr>\n",
       "    <tr>\n",
       "      <th>7607</th>\n",
       "      <td>10867</td>\n",
       "      <td>NaN</td>\n",
       "      <td>NaN</td>\n",
       "      <td>#stormchase violent record breaking ef-5 el re...</td>\n",
       "      <td>1</td>\n",
       "    </tr>\n",
       "    <tr>\n",
       "      <th>7608</th>\n",
       "      <td>10869</td>\n",
       "      <td>NaN</td>\n",
       "      <td>NaN</td>\n",
       "      <td>two giant cranes holding a bridge collapse int...</td>\n",
       "      <td>1</td>\n",
       "    </tr>\n",
       "    <tr>\n",
       "      <th>7610</th>\n",
       "      <td>10871</td>\n",
       "      <td>NaN</td>\n",
       "      <td>NaN</td>\n",
       "      <td>m1.94 [01:04 utc]?5km s of volcano hawaii. htt...</td>\n",
       "      <td>1</td>\n",
       "    </tr>\n",
       "    <tr>\n",
       "      <th>7612</th>\n",
       "      <td>10873</td>\n",
       "      <td>NaN</td>\n",
       "      <td>NaN</td>\n",
       "      <td>the latest: more homes razed by northern calif...</td>\n",
       "      <td>1</td>\n",
       "    </tr>\n",
       "  </tbody>\n",
       "</table>\n",
       "<p>3970 rows × 5 columns</p>\n",
       "</div>"
      ],
      "text/plain": [
       "         id keyword                       location  \\\n",
       "31       48  ablaze                     Birmingham   \n",
       "32       49  ablaze  Est. September 2012 - Bristol   \n",
       "33       50  ablaze                         AFRICA   \n",
       "35       53  ablaze                     London, UK   \n",
       "37       55  ablaze                   World Wide!!   \n",
       "...     ...     ...                            ...   \n",
       "7606  10866     NaN                            NaN   \n",
       "7607  10867     NaN                            NaN   \n",
       "7608  10869     NaN                            NaN   \n",
       "7610  10871     NaN                            NaN   \n",
       "7612  10873     NaN                            NaN   \n",
       "\n",
       "                                                   text  target  \n",
       "31      wholesale markets ablaze http://t.co/lhyxeohy6c       1  \n",
       "32    we always try to bring the heavy. #metal #rt h...       0  \n",
       "33    #africanbaze: breaking news:nigeria flag set a...       1  \n",
       "35    on plus side look at the sky last night it was...       0  \n",
       "37    inec office in abia set ablaze - http://t.co/3...       1  \n",
       "...                                                 ...     ...  \n",
       "7606  suicide bomber kills 15 in saudi security site...       1  \n",
       "7607  #stormchase violent record breaking ef-5 el re...       1  \n",
       "7608  two giant cranes holding a bridge collapse int...       1  \n",
       "7610  m1.94 [01:04 utc]?5km s of volcano hawaii. htt...       1  \n",
       "7612  the latest: more homes razed by northern calif...       1  \n",
       "\n",
       "[3970 rows x 5 columns]"
      ]
     },
     "execution_count": 9,
     "metadata": {},
     "output_type": "execute_result"
    }
   ],
   "source": [
    "df[df['text'].str.contains('http')]"
   ]
  },
  {
   "cell_type": "code",
   "execution_count": 10,
   "id": "0bdb62b5",
   "metadata": {},
   "outputs": [],
   "source": [
    "def remover_enlaces(texto: str) -> str:\n",
    "    return \" \".join([palabra for palabra in texto.split() if \"http\" not in palabra])\n",
    "\n",
    "df['text'] = df['text'].apply(remover_enlaces)"
   ]
  },
  {
   "cell_type": "code",
   "execution_count": 11,
   "id": "8b50d1dc",
   "metadata": {},
   "outputs": [
    {
     "data": {
      "text/html": [
       "<div>\n",
       "<style scoped>\n",
       "    .dataframe tbody tr th:only-of-type {\n",
       "        vertical-align: middle;\n",
       "    }\n",
       "\n",
       "    .dataframe tbody tr th {\n",
       "        vertical-align: top;\n",
       "    }\n",
       "\n",
       "    .dataframe thead th {\n",
       "        text-align: right;\n",
       "    }\n",
       "</style>\n",
       "<table border=\"1\" class=\"dataframe\">\n",
       "  <thead>\n",
       "    <tr style=\"text-align: right;\">\n",
       "      <th></th>\n",
       "      <th>id</th>\n",
       "      <th>keyword</th>\n",
       "      <th>location</th>\n",
       "      <th>text</th>\n",
       "      <th>target</th>\n",
       "    </tr>\n",
       "  </thead>\n",
       "  <tbody>\n",
       "  </tbody>\n",
       "</table>\n",
       "</div>"
      ],
      "text/plain": [
       "Empty DataFrame\n",
       "Columns: [id, keyword, location, text, target]\n",
       "Index: []"
      ]
     },
     "execution_count": 11,
     "metadata": {},
     "output_type": "execute_result"
    }
   ],
   "source": [
    "df[df['text'].str.contains('http')]"
   ]
  },
  {
   "cell_type": "markdown",
   "id": "63653019",
   "metadata": {},
   "source": [
    "Vamos a remover todo tipo de caracter especial comas, puntos, comillas, entre otros."
   ]
  },
  {
   "cell_type": "code",
   "execution_count": 12,
   "id": "a29bcb3a",
   "metadata": {},
   "outputs": [],
   "source": [
    "import re\n",
    "\n",
    "def remover_caracteres_especiales(texto: str) -> str:\n",
    "    # Elimina todo excepto letras, números y espacios\n",
    "    return re.sub(r\"[^a-zA-Z0-9áéíóúüñÁÉÍÓÚÜÑ\\s]\", \" \", texto)\n",
    "\n",
    "df['text'] = df['text'].apply(remover_caracteres_especiales)"
   ]
  },
  {
   "cell_type": "markdown",
   "id": "261c3275",
   "metadata": {},
   "source": [
    "Vamos a remover todos los dobles espacios que se pudieron haber ocasionado debido a remover los caracteres especiales."
   ]
  },
  {
   "cell_type": "code",
   "execution_count": 13,
   "id": "6bd54492",
   "metadata": {},
   "outputs": [
    {
     "data": {
      "text/plain": [
       "0    our deeds are the reason of this earthquake ma...\n",
       "1                forest fire near la ronge sask canada\n",
       "2    all residents asked to shelter in place are be...\n",
       "3    13 000 people receive wildfires evacuation ord...\n",
       "4    just got sent this photo from ruby alaska as s...\n",
       "5    rockyfire update california hwy 20 closed in b...\n",
       "6    flood disaster heavy rain causes flash floodin...\n",
       "7    i m on top of the hill and i can see a fire in...\n",
       "8    there s an emergency evacuation happening now ...\n",
       "9    i m afraid that the tornado is coming to our area\n",
       "Name: text, dtype: object"
      ]
     },
     "execution_count": 13,
     "metadata": {},
     "output_type": "execute_result"
    }
   ],
   "source": [
    "def normalizar_espacios(texto: str) -> str:\n",
    "    palabras = texto.split()\n",
    "    return \" \".join(palabras)\n",
    "\n",
    "df['text'] = df['text'].apply(normalizar_espacios)\n",
    "df['text'].head(10)"
   ]
  },
  {
   "cell_type": "markdown",
   "id": "cb21aae3",
   "metadata": {},
   "source": [
    "Vamos a remover las palabras menores a 3 caracteres, debido a que principalmente se tratan de articulos, preposiciones, conjunciones o palabras que no dan indicio claro de si se puede estar hablando de un desastre o no (dejamos el 911)."
   ]
  },
  {
   "cell_type": "code",
   "execution_count": 14,
   "id": "e442349f",
   "metadata": {},
   "outputs": [],
   "source": [
    "def remover_palabras_cortas(texto: str) -> str:\n",
    "    return \" \".join([palabra for palabra in texto.split() if len(palabra) > 3 or palabra == \"911\"])\n",
    "\n",
    "df['text'] = df['text'].apply(remover_palabras_cortas)"
   ]
  },
  {
   "cell_type": "code",
   "execution_count": 15,
   "id": "bdf18d31",
   "metadata": {},
   "outputs": [
    {
     "data": {
      "text/plain": [
       "0           deeds reason this earthquake allah forgive\n",
       "1                   forest fire near ronge sask canada\n",
       "2    residents asked shelter place being notified o...\n",
       "3    people receive wildfires evacuation orders cal...\n",
       "4    just sent this photo from ruby alaska smoke fr...\n",
       "5    rockyfire update california closed both direct...\n",
       "6    flood disaster heavy rain causes flash floodin...\n",
       "7                                      hill fire woods\n",
       "8    there emergency evacuation happening building ...\n",
       "9                      afraid that tornado coming area\n",
       "Name: text, dtype: object"
      ]
     },
     "execution_count": 15,
     "metadata": {},
     "output_type": "execute_result"
    }
   ],
   "source": [
    "df['text'].head(10)"
   ]
  },
  {
   "cell_type": "code",
   "execution_count": 17,
   "id": "5786d277",
   "metadata": {},
   "outputs": [],
   "source": [
    "df.to_csv('tweets_texto_normalizados.csv', index=False)"
   ]
  }
 ],
 "metadata": {
  "kernelspec": {
   "display_name": "Python 3",
   "language": "python",
   "name": "python3"
  },
  "language_info": {
   "codemirror_mode": {
    "name": "ipython",
    "version": 3
   },
   "file_extension": ".py",
   "mimetype": "text/x-python",
   "name": "python",
   "nbconvert_exporter": "python",
   "pygments_lexer": "ipython3",
   "version": "3.10.0"
  }
 },
 "nbformat": 4,
 "nbformat_minor": 5
}
